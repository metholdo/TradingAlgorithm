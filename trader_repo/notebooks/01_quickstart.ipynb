{
  "cells": [
    {
      "cell_type": "markdown",
      "metadata": {},
      "source": [
        "# Quickstart",
        "Backtest SMA crossover on AAPL."
      ]
    },
    {
      "cell_type": "code",
      "metadata": {},
      "execution_count": null,
      "outputs": [],
      "source": [
        "from trader.config import load_settings\n",
        "from trader.data_sources.yahoo import YahooSource\n",
        "from trader.strategies.sma_crossover import SMACrossover\n",
        "from trader.backtest.engine import run\n",
        "from trader.backtest.report import generate_reports\n",
        "s = load_settings()\n",
        "ds = YahooSource(s)\n",
        "df = ds.fetch_history(['AAPL'], start='2018-01-01')\n",
        "px = df.reset_index().query(\"symbol=='AAPL'\").set_index('date')['close']\n",
        "sig = SMACrossover().generate_signals(px).positions\n",
        "res = run(px, sig)\n",
        "generate_reports(res.returns, s.reports_path)\n",
        "res.summary\n"
      ]
    }
  ],
  "metadata": {
    "kernelspec": {
      "display_name": "Python 3",
      "language": "python",
      "name": "python3"
    },
    "language_info": {
      "name": "python",
      "version": "3.11"
    }
  },
  "nbformat": 4,
  "nbformat_minor": 5
}