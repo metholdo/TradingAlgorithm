{
  "cells": [
    {
      "cell_type": "markdown",
      "metadata": {},
      "source": [
        "# Parameter tuning with Optuna"
      ]
    },
    {
      "cell_type": "code",
      "metadata": {},
      "execution_count": null,
      "outputs": [],
      "source": [
        "from trader.config import load_settings\n",
        "from trader.data_sources.yahoo import YahooSource\n",
        "from trader.strategies.sma_crossover import SMACrossover\n",
        "from trader.backtest.tuner import optimise\n",
        "s = load_settings()\n",
        "ds = YahooSource(s)\n",
        "df = ds.fetch_history(['MSFT'], start='2018-01-01')\n",
        "px = df.reset_index().query(\"symbol=='MSFT'\").set_index('date')['close']\n",
        "html = optimise(px, SMACrossover().generate_signals, n_trials=10)\n",
        "open('/mnt/data/tuning.html','w').write(html)\n",
        "html[:200]\n"
      ]
    }
  ],
  "metadata": {
    "kernelspec": {
      "display_name": "Python 3",
      "language": "python",
      "name": "python3"
    },
    "language_info": {
      "name": "python",
      "version": "3.11"
    }
  },
  "nbformat": 4,
  "nbformat_minor": 5
}